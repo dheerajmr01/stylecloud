{
  "nbformat": 4,
  "nbformat_minor": 0,
  "metadata": {
    "colab": {
      "provenance": []
    },
    "kernelspec": {
      "name": "python3",
      "display_name": "Python 3"
    },
    "language_info": {
      "name": "python"
    }
  },
  "cells": [
    {
      "cell_type": "code",
      "execution_count": 1,
      "metadata": {
        "id": "E6iVMnd7QpZd"
      },
      "outputs": [],
      "source": [
        "import os\n",
        "import google.generativeai as genai\n",
        "from google.colab import userdata\n",
        "GEMINI_API_KEY = userdata.get('GEMINI_API_KEY')\n",
        "\n",
        "genai.configure(api_key=GEMINI_API_KEY)"
      ]
    },
    {
      "cell_type": "code",
      "source": [
        "model_info = genai.get_model(name=\"gemini-2.0-flash\")\n",
        "model_info"
      ],
      "metadata": {
        "colab": {
          "base_uri": "https://localhost:8080/",
          "height": 225
        },
        "id": "xm2q-v29ScsW",
        "outputId": "3351bbe8-08db-4fde-962d-1af9173505aa"
      },
      "execution_count": 2,
      "outputs": [
        {
          "output_type": "execute_result",
          "data": {
            "text/plain": [
              "Model(name='models/gemini-2.0-flash',\n",
              "      base_model_id='',\n",
              "      version='2.0',\n",
              "      display_name='Gemini 2.0 Flash',\n",
              "      description='Gemini 2.0 Flash',\n",
              "      input_token_limit=1048576,\n",
              "      output_token_limit=8192,\n",
              "      supported_generation_methods=['generateContent', 'countTokens', 'createCachedContent'],\n",
              "      temperature=1.0,\n",
              "      max_temperature=2.0,\n",
              "      top_p=0.95,\n",
              "      top_k=40)"
            ]
          },
          "metadata": {},
          "execution_count": 2
        }
      ]
    },
    {
      "cell_type": "code",
      "source": [
        "system_prompt = \"You are an expert wardrobe inventory logger and fashion reviewer. Your job is to review videos and photos and catalogue items in the most correct way possible for fashion needs and wardrobe inventory databases.\"\n",
        "print(system_prompt)\n"
      ],
      "metadata": {
        "colab": {
          "base_uri": "https://localhost:8080/"
        },
        "id": "P6Qe8RC8Sm_j",
        "outputId": "d1611f61-3ba1-42e7-d12c-d5d59a2e54a7"
      },
      "execution_count": 3,
      "outputs": [
        {
          "output_type": "stream",
          "name": "stdout",
          "text": [
            "You are an expert wardrobe inventory logger and fashion reviewer. Your job is to review videos and photos and catalogue items in the most correct way possible for fashion needs and wardrobe inventory databases.\n"
          ]
        }
      ]
    },
    {
      "cell_type": "code",
      "source": [
        "temperature = 0.5\n",
        "top_k = 40\n",
        "top_p = 0.95\n",
        "\n",
        "# Model config\n",
        "\n",
        "generation_config = {\n",
        "    \"temperature\": temperature,\n",
        "    \"top_p\": top_p,\n",
        "    \"top_k\": top_k,\n",
        "    \"max_output_tokens\": 8192,\n",
        "    \"response_mime_type\": \"text/plain\"\n",
        "}\n",
        "\n",
        "# Model setup\n",
        "\n",
        "model_gemini_flash = genai.GenerativeModel(model_name=\"models/gemini-2.0-flash\",\n",
        "                                           system_instruction=system_prompt,\n",
        "                                           generation_config=generation_config)\n",
        "\n",
        "# Create helper function for generating content\n",
        "def generate_content(prompt, model):\n",
        "  \"\"\"Returns a given model's output for a given prompt.\"\"\"\n",
        "  return model.generate_content(prompt)"
      ],
      "metadata": {
        "id": "Fe2YNEqmT2sR"
      },
      "execution_count": 4,
      "outputs": []
    },
    {
      "cell_type": "code",
      "source": [
        "# Set up path to video file\n",
        "\n",
        "path_to_video_file = \"/content/drive/MyDrive/StyleCloud/few-clothes\""
      ],
      "metadata": {
        "id": "xkrF_kWnULde"
      },
      "execution_count": 5,
      "outputs": []
    },
    {
      "cell_type": "code",
      "source": [
        "import cv2\n",
        "import random\n",
        "import numpy as np\n",
        "import matplotlib.pyplot as plt\n",
        "\n",
        "from PIL import Image, ImageDraw, ImageFont\n",
        "\n",
        "# Open the video file\n",
        "video_capture = cv2.VideoCapture(path_to_video_file)\n",
        "\n",
        "if not video_capture.isOpened():\n",
        "    print(\"Error: Could not open video.\")\n",
        "else:\n",
        "    frame_count = int(video_capture.get(cv2.CAP_PROP_FRAME_COUNT))\n",
        "    fps = video_capture.get(cv2.CAP_PROP_FPS)\n",
        "    width = int(video_capture.get(cv2.CAP_PROP_FRAME_WIDTH))\n",
        "    height = int(video_capture.get(cv2.CAP_PROP_FRAME_HEIGHT))\n",
        "    video_length_seconds = round(frame_count / fps, 2)\n",
        "    video_length_minutes = round(video_length_seconds / 60, 2)\n",
        "\n",
        "    print(f\"[INFO] Video Metadata:\")\n",
        "    print(f\" - Frame count: {frame_count}\")\n",
        "    print(f\" - FPS: {fps}\")\n",
        "    print(f\" - Video length: {video_length_seconds} seconds ({video_length_minutes} minutes)\")\n",
        "    print(f\" - Width: {width}\")\n",
        "    print(f\" - Height: {height}\")\n",
        "\n",
        "    # Choose random frames\n",
        "    num_frames_to_display = 10\n",
        "    random_frames_indices = random.sample(range(frame_count), num_frames_to_display)\n",
        "    frames = []\n",
        "\n",
        "    for frame_index in random_frames_indices:\n",
        "        video_capture.set(cv2.CAP_PROP_POS_FRAMES, frame_index)\n",
        "        success, frame = video_capture.read()\n",
        "        if success:\n",
        "            frames.append(frame)\n",
        "            print(f\"[INFO] Captured Frame Number: {frame_index}\")\n",
        "        else:\n",
        "            print(f\"Error: Could not read frame {frame_index}.\")\n",
        "            continue\n",
        "\n",
        "    if len(frames) > 0:\n",
        "        # Resize frames to a consistent size for the grid\n",
        "        resized_frames = [cv2.resize(frame, (200, 200)) for frame in frames]\n",
        "\n",
        "        # Create a grid to display the frames\n",
        "        grid_rows = 2\n",
        "        grid_cols = 5  # 2 rows x 5 columns = 10 frames\n",
        "        if len(resized_frames) < grid_rows * grid_cols:\n",
        "            grid_rows = 1\n",
        "            grid_cols = len(resized_frames)\n",
        "\n",
        "        grid_height = grid_rows * resized_frames[0].shape[0]\n",
        "        grid_width = grid_cols * resized_frames[0].shape[1]\n",
        "        grid = np.zeros((grid_height, grid_width, 3), dtype=np.uint8)\n",
        "\n",
        "        for i, frame in enumerate(resized_frames):\n",
        "            row = i // grid_cols\n",
        "            col = i % grid_cols\n",
        "            grid[row * resized_frames[0].shape[0]:(row + 1) * resized_frames[0].shape[0],\n",
        "                 col * resized_frames[0].shape[1]:(col + 1) * resized_frames[0].shape[1], :] = frame\n",
        "\n",
        "        # Convert BGR to RGB for Matplotlib\n",
        "        grid_rgb = cv2.cvtColor(grid, cv2.COLOR_BGR2RGB)\n",
        "\n",
        "        # Display the grid using Matplotlib\n",
        "        plt.figure(figsize=(10, 5))\n",
        "        plt.imshow(grid_rgb)\n",
        "        plt.axis('off')  # Hide axes for better visualization\n",
        "        plt.title(\"Random Frames Grid\")\n",
        "        plt.show()\n",
        "\n",
        "        # Save the grid to a file and display it\n",
        "        grid_path = \"random_frames_grid.jpg\"\n",
        "        cv2.imwrite(grid_path, grid)\n",
        "        print(\"[INFO] Saved Random Frames Grid as 'random_frames_grid.jpg'\")\n",
        "\n",
        "        # Display the saved image in the notebook\n",
        "        # display(Image(filename=grid_path))\n",
        "    else:\n",
        "        print(\"No frames were successfully captured to display.\")\n",
        "\n",
        "    video_capture.release()"
      ],
      "metadata": {
        "id": "g_V1MkFpX-bV"
      },
      "execution_count": null,
      "outputs": []
    },
    {
      "cell_type": "code",
      "source": [
        "video_file_upload = genai.upload_file(path=path_to_video_file,mime_type=\"video/quicktime\")"
      ],
      "metadata": {
        "id": "bBYIlBLlabVN"
      },
      "execution_count": 7,
      "outputs": []
    },
    {
      "cell_type": "code",
      "source": [
        "%%time\n",
        "import time\n",
        "# Check status of video file\n",
        "print(\"[INFO] Video upload processing, please wait.\", end=\"\")\n",
        "\n",
        "while video_file_upload.state.name == \"PROCESSING\":\n",
        "  print(\".\", end=\"\")\n",
        "  time.sleep(2)\n",
        "  video_file_upload = genai.get_file(video_file_upload.name)\n",
        "\n",
        "if video_file_upload.state.name == \"FAILED\":\n",
        "  raise ValueError(video_file_upload.state.name)"
      ],
      "metadata": {
        "colab": {
          "base_uri": "https://localhost:8080/",
          "height": 52
        },
        "id": "UutHfylubMym",
        "outputId": "569048c7-edd8-4cc4-a789-4150853a9c54"
      },
      "execution_count": 8,
      "outputs": [
        {
          "output_type": "stream",
          "name": "stdout",
          "text": [
            "[INFO] Video upload processing, please wait....CPU times: user 66.6 ms, sys: 10.5 ms, total: 77.1 ms\n",
            "Wall time: 8.19 s\n"
          ]
        }
      ]
    },
    {
      "cell_type": "code",
      "source": [
        "# Check the video file state name, if the state name is ACTIVE, ok to proceed\n",
        "print(video_file_upload.state.name)\n",
        "print(video_file_upload)"
      ],
      "metadata": {
        "id": "j9Q6ya_nbQmF"
      },
      "execution_count": null,
      "outputs": []
    },
    {
      "cell_type": "code",
      "source": [
        "print(\"My files:\")\n",
        "\n",
        "for f in genai.list_files():\n",
        "    print(\"->\", f.name)"
      ],
      "metadata": {
        "colab": {
          "base_uri": "https://localhost:8080/",
          "height": 52
        },
        "id": "wIlRuQVRbcaV",
        "outputId": "504a5bd6-b4d2-4149-e033-d4d0c3c7d39f"
      },
      "execution_count": 10,
      "outputs": [
        {
          "output_type": "stream",
          "name": "stdout",
          "text": [
            "My files:\n",
            "-> files/li9c88qq6r73\n"
          ]
        }
      ]
    },
    {
      "cell_type": "code",
      "source": [
        "#genai.delete_file(name=video_file_upload.name)"
      ],
      "metadata": {
        "id": "kNB4lpkxBlPp"
      },
      "execution_count": null,
      "outputs": []
    },
    {
      "cell_type": "markdown",
      "source": [
        "Caching code. currently dosent work due to free tier of gemini"
      ],
      "metadata": {
        "id": "ifkj-w_UB20z"
      }
    },
    {
      "cell_type": "code",
      "source": [
        "# from google.generativeai import caching\n",
        "\n",
        "# for cached_object in caching.CachedContent.list():\n",
        "#   print(cached_object)"
      ],
      "metadata": {
        "id": "VuvegZx9b-Hg"
      },
      "execution_count": null,
      "outputs": []
    },
    {
      "cell_type": "code",
      "source": [
        "# try:\n",
        "#   video_file_cache = caching.CachedContent.get(name=\"cachedContents/db8qp5uvbw27\") # note: this will error if the target cached object is not available\n",
        "#   print(video_file_cache)\n",
        "# except Exception as e:\n",
        "#   video_file_cache = None\n",
        "#   print(e)\n",
        "#   print(video_file_cache)"
      ],
      "metadata": {
        "id": "ML5E3n0BdGQO"
      },
      "execution_count": null,
      "outputs": []
    },
    {
      "cell_type": "code",
      "source": [
        "# # Create a cache (this can be varied by the time you'd like it)\n",
        "# # Note: caching = cost for storage but = 4x cheaper input, see pricing: https://ai.google.dev/pricing\n",
        "# import datetime\n",
        "\n",
        "# CACHE_MINUTES = 2 # Note: Can change this based on your use case. Beware caching storage costs, best to cache for the exact amount of time you need.\n",
        "# CACHE_HOURS = CACHE_MINUTES / 60\n",
        "\n",
        "# if video_file_cache == None:\n",
        "#   video_file_cache = caching.CachedContent.create(\n",
        "#       model=\"models/gemini-2.0-flash-001\", # note: model cache name should be same as model used to generate outputs, model postfix is required, e.g. \"-002\"\n",
        "#       display_name=\"wardrobe catalogue video\",\n",
        "#       system_instruction=system_prompt,\n",
        "#       contents=[video_file_upload],\n",
        "#       ttl=datetime.timedelta(minutes=CACHE_MINUTES) # Note: there are no minimum or maximum bounds on context caching, however you should consider the use case of your app because caching prices can ramp up if left unchecked.\n",
        "# )\n",
        "\n",
        "# video_file_cache"
      ],
      "metadata": {
        "id": "aYqbTeWSb-FU"
      },
      "execution_count": null,
      "outputs": []
    },
    {
      "cell_type": "markdown",
      "source": [
        "#Helper Functions"
      ],
      "metadata": {
        "id": "mLQ4oGQMFdGj"
      }
    },
    {
      "cell_type": "code",
      "source": [
        "def count_tokens(input_prompt, model=model_gemini_flash):\n",
        "  \"\"\"Returns the total tokens from a given input prompt.\n",
        "\n",
        "  See the docs on token counting: https://ai.google.dev/gemini-api/docs/tokens?lang=python#text-tokens\n",
        "  \"\"\"\n",
        "  return model.count_tokens(input_prompt).total_tokens\n",
        "\n",
        "def df_to_csv_string(df) -> str:\n",
        "  \"\"\"\n",
        "  Converts a pandas DataFrame to a CSV string.\n",
        "\n",
        "  Parameters:\n",
        "    df (pd.DataFrame): The DataFrame to convert.\n",
        "\n",
        "  Returns:\n",
        "    str: The DataFrame as a CSV-formatted string.\n",
        "  \"\"\"\n",
        "  csv_buffer = StringIO()\n",
        "  df.to_csv(csv_buffer, index=False)\n",
        "  return csv_buffer.getvalue()\n",
        "\n",
        "def csv_string_to_df(csv_string):\n",
        "    \"\"\"\n",
        "    Converts a CSV string to a pandas DataFrame.\n",
        "\n",
        "    Parameters:\n",
        "      csv_string (str): The CSV-formatted string.\n",
        "\n",
        "    Returns:\n",
        "      pd.DataFrame: The resulting DataFrame.\n",
        "    \"\"\"\n",
        "    return pd.read_csv(StringIO(csv_string))"
      ],
      "metadata": {
        "id": "1G7KYri9b-Cz"
      },
      "execution_count": 11,
      "outputs": []
    },
    {
      "cell_type": "markdown",
      "source": [
        "#CSV Schema"
      ],
      "metadata": {
        "id": "cvUgM8Y9Fzf_"
      }
    },
    {
      "cell_type": "code",
      "source": [
        "from typing import Dict, Any, Optional, List\n",
        "\n",
        "csv_schema = [\n",
        "    {\n",
        "        \"field\": \"item_number\",\n",
        "        \"type\": \"int\",\n",
        "        \"description\": \"Sequential integer starting from 1. Example: 1, 2, 3\",\n",
        "        \"example\": \"1\"\n",
        "    },\n",
        "    {\n",
        "        \"field\": \"item_type\",\n",
        "        \"type\": \"str\",\n",
        "        \"description\": \"Type of item in lowercase. Standard categories include: shirt, t-shirt, shorts, innerwear, jeans, pants.\",\n",
        "        \"example\": \"shorts\"\n",
        "    },\n",
        "    {\n",
        "        \"field\": \"item_description\",\n",
        "        \"type\": \"str\",\n",
        "        \"description\": \"Detailed description including color, material, and notable features. Should be a complete phrase starting with a capital letter. Do not use commas in this field. Just describe the item verbatim.\",\n",
        "        \"example\": \"Beige striped linen full sleeve shirt .\"\n",
        "    },\n",
        "\n",
        "    {\n",
        "        \"field\": \"occasion\",\n",
        "        \"type\": \"str\",\n",
        "        \"description\": \"Suitable ocassion to wear the piece of clothing. Standard categories include: gym, partywear, casual, formal. Use NA if item type is innerwear\",\n",
        "        \"example\": \"gym\"\n",
        "    },\n",
        "\n",
        "    {\n",
        "        \"field\": \"item_brand\",\n",
        "        \"type\": \"str\",\n",
        "        \"description\": \"Brand name with proper capitalization. Try to identify brand based on logos and use NA if not visible/mentioned. Examples: Zara, Puma, Nike, NA. \",\n",
        "        \"example\": \"Puma\"\n",
        "    },\n",
        "    {\n",
        "        \"field\": \"item_condition\",\n",
        "        \"type\": \"str\",\n",
        "        \"description\": \"Condition in lowercase, using standard terms: no visible damage, slight wear, moderate wear, significant damage, as new.\",\n",
        "        \"example\": \"no visible damage\"\n",
        "    },\n",
        "    {\n",
        "        \"field\": \"number_of_items\",\n",
        "        \"type\": \"int\",\n",
        "        \"description\": \"Integer count of identical items. If there are multiple of the same item, enter their integer count. Example: Single item: 1, Multiple items: 4\",\n",
        "        \"example\": \"1\"\n",
        "    },\n",
        "\n",
        "    {\n",
        "        \"field\": \"timestamp\",\n",
        "        \"type\": \"str\",\n",
        "        \"description\": \"Time in HH:MM:SS format with leading zeros.\",\n",
        "        \"example\": \"00:01:30\"\n",
        "    },\n",
        "\n",
        "    {\n",
        "        \"field\": \"overall_certainty_flag\",\n",
        "        \"type\": \"int\",\n",
        "        \"description\": \"Overall confidence level 1-10 considering all fields: 1-3: Multiple uncertain fields, needs review. 4-6: Some uncertainty in key fields. 7-8: Minor uncertainty in non-critical fields. 9-10: All fields verified with high confidence.\",\n",
        "        \"example\": \"8\"\n",
        "    },\n",
        "\n",
        "    {\n",
        "        \"field\": \"is_similar_to\",\n",
        "        \"type\": \"str\",\n",
        "        \"description\": \"Reference to similar item by item_number, or NA. Use for: Matching cloth pieces, Items from same occasion.\",\n",
        "        \"example\": \"NA\"\n",
        "    },\n",
        "\n",
        "]\n",
        "\n",
        "def get_schema_string() -> str:\n",
        "  \"\"\"Returns a simple string representation of the schema.\"\"\"\n",
        "  return \"\\n\".join([\n",
        "      f\"{i+1}. {field['field']} ({field['type']}): {field['description']} Example: {field['example']}\"\n",
        "      for i, field in enumerate(csv_schema)\n",
        "  ])\n",
        "\n",
        "def get_field_names_as_string() -> str:\n",
        "  \"\"\"Returns comma-separated field names for CSV header.\"\"\"\n",
        "  return \",\".join([field[\"field\"] for field in csv_schema])\n",
        "\n",
        "def get_field_names_as_list() -> List:\n",
        "  \"\"\"Returns a list of field names for CSV header.\"\"\"\n",
        "  return [field[\"field\"] for field in csv_schema]\n",
        "\n",
        "print(f\"[INFO] CSV schema string:\\n{get_schema_string()}\")\n",
        "print()\n",
        "print(f\"[INFO] CSV header:\\n{get_field_names_as_list()}\")"
      ],
      "metadata": {
        "id": "JARUfw67b9__",
        "colab": {
          "base_uri": "https://localhost:8080/"
        },
        "outputId": "bfb840e4-7333-412f-f559-5f7886e0a26e"
      },
      "execution_count": 12,
      "outputs": [
        {
          "output_type": "stream",
          "name": "stdout",
          "text": [
            "[INFO] CSV schema string:\n",
            "1. item_number (int): Sequential integer starting from 1. Example: 1, 2, 3 Example: 1\n",
            "2. item_type (str): Type of item in lowercase. Standard categories include: shirt, t-shirt, shorts, innerwear, jeans, pants. Example: shorts\n",
            "3. item_description (str): Detailed description including color, material, and notable features. Should be a complete phrase starting with a capital letter. Do not use commas in this field. Just describe the item verbatim. Example: Beige striped linen full sleeve shirt .\n",
            "4. occasion (str): Suitable ocassion to wear the piece of clothing. Standard categories include: gym, partywear, casual, formal. Use NA if item type is innerwear Example: gym\n",
            "5. item_brand (str): Brand name with proper capitalization. Try to identify brand based on logos and use NA if not visible/mentioned. Examples: Zara, Puma, Nike, NA.  Example: Puma\n",
            "6. item_condition (str): Condition in lowercase, using standard terms: no visible damage, slight wear, moderate wear, significant damage, as new. Example: no visible damage\n",
            "7. number_of_items (int): Integer count of identical items. If there are multiple of the same item, enter their integer count. Example: Single item: 1, Multiple items: 4 Example: 1\n",
            "8. timestamp (str): Time in HH:MM:SS format with leading zeros. Example: 00:01:30\n",
            "9. overall_certainty_flag (int): Overall confidence level 1-10 considering all fields: 1-3: Multiple uncertain fields, needs review. 4-6: Some uncertainty in key fields. 7-8: Minor uncertainty in non-critical fields. 9-10: All fields verified with high confidence. Example: 8\n",
            "10. is_similar_to (str): Reference to similar item by item_number, or NA. Use for: Matching cloth pieces, Items from same occasion. Example: NA\n",
            "\n",
            "[INFO] CSV header:\n",
            "['item_number', 'item_type', 'item_description', 'occasion', 'item_brand', 'item_condition', 'number_of_items', 'timestamp', 'overall_certainty_flag', 'is_similar_to']\n"
          ]
        }
      ]
    },
    {
      "cell_type": "code",
      "source": [
        "import io\n",
        "import csv\n",
        "\n",
        "# Extract the CSV content from the input string\n",
        "def quick_check_csv(model_output,\n",
        "                    ideal_number_of_fields=len(get_field_names_as_list()),\n",
        "                    target_start_tag=\"<csv>\",\n",
        "                    target_end_tag=\"</csv>\"):\n",
        "  \"\"\"\n",
        "  Extracts and validates a CSV from a model's output and performs formatting checks.\n",
        "\n",
        "  This function extracts a CSV segment from the `model_output` string by locating\n",
        "  the `target_start_tag` and `target_end_tag`. It validates the CSV's structure using\n",
        "  Python's `csv` module, ensuring that all rows have the expected number of fields.\n",
        "  Any formatting issues are detected and optionally fixed by enclosing problematic\n",
        "  fields with quotes where necessary.\n",
        "\n",
        "  Args:\n",
        "      model_output: An object containing the model's output as a string in its `text` attribute.\n",
        "      ideal_number_of_fields (int, optional): The expected number of fields in each CSV row.\n",
        "          Defaults to the length of `get_field_names_as_list()`.\n",
        "      target_start_tag (str, optional): The starting tag indicating the CSV content. Defaults to \"<csv>\".\n",
        "      target_end_tag (str, optional): The ending tag indicating the CSV content. Defaults to \"</csv>\".\n",
        "\n",
        "  Returns:\n",
        "      str: The extracted and optionally fixed CSV content.\n",
        "      bool: A flag indicating if the extracted CSV required fixing.\n",
        "      list: A list of issues found, including details of rows with formatting problems.\n",
        "  \"\"\"\n",
        "\n",
        "  # Get text output from model\n",
        "  output_text = model_output.text\n",
        "\n",
        "  # Quick assertions to make sure target start and end tags are available\n",
        "  assert target_start_tag in output_text, f\"target_start_tag: {target_start_tag} not in model's output text, is there an error?\"\n",
        "  assert target_end_tag in output_text, f\"target_end_tag: {target_end_tag} not in model's output text, is there an error?\"\n",
        "\n",
        "  # Baseline filtering\n",
        "  output_text = output_text.replace(\"```csv\", \"\").replace(\"```\", \"\")\n",
        "\n",
        "  # Extract CSV string from XML tags\n",
        "  csv_string = output_text.split(target_start_tag)[1].split(target_end_tag)[0].strip()\n",
        "\n",
        "  # Prepare StringIO objects for input and output\n",
        "  input_csv = io.StringIO(csv_string)\n",
        "  output_csv = io.StringIO()\n",
        "\n",
        "  # Read and write CSV with error handling\n",
        "  reader = csv.reader(input_csv)\n",
        "  writer = csv.writer(output_csv)\n",
        "\n",
        "  # Initialize variables to track issues\n",
        "  field_counts = []\n",
        "  fixes_required = []\n",
        "  fix_csv_required = False\n",
        "\n",
        "  # Print ideal number of fields\n",
        "  print(f\"[INFO] Ideal number of fields: {ideal_number_of_fields}\")\n",
        "\n",
        "  for i, row in enumerate(reader):\n",
        "      # For the first row, determine the ideal number of fields, only if ideal_number_of_fields var is not available\n",
        "      if ideal_number_of_fields == None:\n",
        "        if i == 0:\n",
        "            ideal_number_of_fields = len(row)\n",
        "            print(f\"[INFO] Ideal number of fields: {ideal_number_of_fields}\")\n",
        "\n",
        "      # Count fields in each row and compare to the header\n",
        "      field_counts.append(len(row))\n",
        "      if len(row) != ideal_number_of_fields:\n",
        "        error_string = f\"[INFO] Row {i} has an unexpected number of fields: {len(row)} (expected: {ideal_number_of_fields})\"\n",
        "        print(error_string)\n",
        "        fixes_required.append(f\"Error: {error_string.replace('[INFO] ', '')} | Row to fix: {','.join(row)}\")\n",
        "        fix_csv_required = True\n",
        "\n",
        "      # Fix problematic fields if required\n",
        "      # Enclose fields containing commas, newlines, or quotes\n",
        "      fixed_row = [\n",
        "          f'\"{field}\"'.replace('\"\"\"', '\"') if any(char in field for char in [\",\", \"\\n\", '\"']) else field for field in row\n",
        "      ]\n",
        "\n",
        "      # Write the fixed row to the output\n",
        "      writer.writerow(fixed_row)\n",
        "\n",
        "  # Get the fixed CSV data as a string\n",
        "  output_csv.seek(0)\n",
        "  output_csv_extracted = output_csv.getvalue()\n",
        "\n",
        "  # Print a summary of issues, if any\n",
        "  if fix_csv_required:\n",
        "      print(\"[INFO] Some rows required fixing.\")\n",
        "  else:\n",
        "      print(\"[INFO] No issues detected in the CSV.\")\n",
        "\n",
        "  # Print the fixed CSV output (for debugging or further use)\n",
        "  # print(output_csv_fixed)\n",
        "\n",
        "  return output_csv_extracted, fix_csv_required, fixes_required\n",
        "\n",
        "class ExampleModelOutput:\n",
        "  \"\"\"Simple class to create a `text` attribute, similar to Gemini model outputs.\"\"\"\n",
        "  def __init__(self, text):\n",
        "    self.text = text\n",
        "\n",
        "example_model_output = ExampleModelOutput(text=\"\"\"This is an example model output with CSV values from looking at a video.\n",
        "\n",
        "Row 9 (item_number=9) of the CSV is broken due to having an extra comma in the item_name.\n",
        "\n",
        "<csv>\n",
        "'item_number', 'item_type', 'item_description', 'occasion', 'item_brand', 'item_condition', 'number_of_items', 'timestamp', 'overall_certainty_flag', 'is_similar_to'\n",
        "1,Shirt,Blue striped linen full sleeve shirt,partywear,Zara,excellent,1,00:01:05,10,2\n",
        "2,Shirt,Beige striped linen full sleeve shirt,partywear,bannaclub,excellent,2,00:06:20,10,1\n",
        "3,T-Shirt, Light Dirty Green nylon half sleeve t-shirt,gym,puma,good,1,00:20:30,9,NA\n",
        "</csv>\n",
        "\"\"\")\n",
        "\n",
        "example_output_csv_extracted, example_fix_csv_required, example_fixes_required = quick_check_csv(model_output=example_model_output,\n",
        "                                                                                                 ideal_number_of_fields=len(get_field_names_as_list()),\n",
        "                                                                                                 target_start_tag=\"<csv>\",\n",
        "                                                                                                 target_end_tag=\"</csv>\")\n",
        "\n",
        "\n",
        "print(f\"[INFO] CSV fix required? {example_fix_csv_required}\")\n",
        "print(f\"[INFO] Example extracted CSV:\\n{example_output_csv_extracted}\")\n",
        "print(f\"[INFO] Fixes required:\\n{example_fixes_required}\")"
      ],
      "metadata": {
        "colab": {
          "base_uri": "https://localhost:8080/"
        },
        "id": "6OrFd3jtKOIs",
        "outputId": "8edb145e-98e2-44d5-f903-40885d859d0c"
      },
      "execution_count": 13,
      "outputs": [
        {
          "output_type": "stream",
          "name": "stdout",
          "text": [
            "[INFO] Ideal number of fields: 10\n",
            "[INFO] No issues detected in the CSV.\n",
            "[INFO] CSV fix required? False\n",
            "[INFO] Example extracted CSV:\n",
            "'item_number', 'item_type', 'item_description', 'occasion', 'item_brand', 'item_condition', 'number_of_items', 'timestamp', 'overall_certainty_flag', 'is_similar_to'\r\n",
            "1,Shirt,Blue striped linen full sleeve shirt,partywear,Zara,excellent,1,00:01:05,10,2\r\n",
            "2,Shirt,Beige striped linen full sleeve shirt,partywear,bannaclub,excellent,2,00:06:20,10,1\r\n",
            "3,T-Shirt, Light Dirty Green nylon half sleeve t-shirt,gym,puma,good,1,00:20:30,9,NA\r\n",
            "\n",
            "[INFO] Fixes required:\n",
            "[]\n"
          ]
        }
      ]
    },
    {
      "cell_type": "code",
      "source": [
        "import base64\n",
        "from IPython.display import Image, display\n",
        "\n",
        "def mermaid_graph(graph, scale=2):\n",
        "    graphbytes = graph.encode(\"ascii\")\n",
        "    base64_bytes = base64.b64encode(graphbytes)\n",
        "    base64_string = base64_bytes.decode(\"ascii\")\n",
        "    # print(base64_string)\n",
        "    display(\n",
        "        Image(\n",
        "            url=f\"https://mermaid.ink/img/{base64_string}\"\n",
        "        )\n",
        "    )\n",
        "\n",
        "mermaid_graph(\"\"\"\n",
        "graph LR;\n",
        "    A[Start] --> B[Target Video - 165,000 tokens]\n",
        "\n",
        "    subgraph \"Step 1: Initial Extraction\"\n",
        "        B --> C1[Gemini Model Initial Prompt - 10,000 tokens]\n",
        "        C1 --> D1{CSV Validation}\n",
        "        D1 -->|Valid| E1[Output 1]\n",
        "        D1 -->|Invalid| FX1[Gemini CSV Fixer Model]\n",
        "        FX1 --> D1\n",
        "    end\n",
        "\n",
        "    subgraph \"Step 2: Expand Extraction\"\n",
        "        B & E1 --> C2[Gemini Model Secondary Prompt - 2000-5000 tokens]\n",
        "        C2 --> D2{CSV Validation}\n",
        "        D2 -->|Valid| E2[Output 2]\n",
        "        D2 -->|Invalid| FX2[Gemini CSV Fixer Model]\n",
        "        FX2 --> D2\n",
        "    end\n",
        "\n",
        "    subgraph \"Step 3: Finalize Extraction\"\n",
        "        B & E1 & E2 --> C3[Gemini Model Final Prompt - 2000-5000 tokens]\n",
        "        C3 --> D3{CSV Validation}\n",
        "        D3 -->|Valid| E3[Final Output]\n",
        "        D3 -->|Invalid| FX3[Gemini CSV Fixer Model]\n",
        "        FX3 --> D3\n",
        "    end\n",
        "\n",
        "    E3 --> F[Final Results]\n",
        "\n",
        "    %% Styling\n",
        "    style C1 fill:#b3d9ff,stroke:#333,stroke-width:1px\n",
        "    style C2 fill:#b3d9ff,stroke:#333,stroke-width:1px\n",
        "    style C3 fill:#b3d9ff,stroke:#333,stroke-width:1px\n",
        "    style D1 fill:#f9f,stroke:#333,stroke-width:1px\n",
        "    style D2 fill:#f9f,stroke:#333,stroke-width:1px\n",
        "    style D3 fill:#f9f,stroke:#333,stroke-width:1px\n",
        "    style FX1 fill:#ccffcc,stroke:#333,stroke-width:1px\n",
        "    style FX2 fill:#ccffcc,stroke:#333,stroke-width:1px\n",
        "    style FX3 fill:#ccffcc,stroke:#333,stroke-width:1px\n",
        "\"\"\")"
      ],
      "metadata": {
        "colab": {
          "base_uri": "https://localhost:8080/",
          "height": 366
        },
        "id": "fr8yx5JUMyT3",
        "outputId": "31a17f75-dadc-49f4-8147-0ddb8abefd42"
      },
      "execution_count": 14,
      "outputs": [
        {
          "output_type": "display_data",
          "data": {
            "text/html": [
              "<img src=\"https://mermaid.ink/img/CmdyYXBoIExSOwogICAgQVtTdGFydF0gLS0+IEJbVGFyZ2V0IFZpZGVvIC0gMTY1LDAwMCB0b2tlbnNdCgogICAgc3ViZ3JhcGggIlN0ZXAgMTogSW5pdGlhbCBFeHRyYWN0aW9uIgogICAgICAgIEIgLS0+IEMxW0dlbWluaSBNb2RlbCBJbml0aWFsIFByb21wdCAtIDEwLDAwMCB0b2tlbnNdCiAgICAgICAgQzEgLS0+IEQxe0NTViBWYWxpZGF0aW9ufQogICAgICAgIEQxIC0tPnxWYWxpZHwgRTFbT3V0cHV0IDFdCiAgICAgICAgRDEgLS0+fEludmFsaWR8IEZYMVtHZW1pbmkgQ1NWIEZpeGVyIE1vZGVsXQogICAgICAgIEZYMSAtLT4gRDEKICAgIGVuZAoKICAgIHN1YmdyYXBoICJTdGVwIDI6IEV4cGFuZCBFeHRyYWN0aW9uIgogICAgICAgIEIgJiBFMSAtLT4gQzJbR2VtaW5pIE1vZGVsIFNlY29uZGFyeSBQcm9tcHQgLSAyMDAwLTUwMDAgdG9rZW5zXQogICAgICAgIEMyIC0tPiBEMntDU1YgVmFsaWRhdGlvbn0KICAgICAgICBEMiAtLT58VmFsaWR8IEUyW091dHB1dCAyXQogICAgICAgIEQyIC0tPnxJbnZhbGlkfCBGWDJbR2VtaW5pIENTViBGaXhlciBNb2RlbF0KICAgICAgICBGWDIgLS0+IEQyCiAgICBlbmQKCiAgICBzdWJncmFwaCAiU3RlcCAzOiBGaW5hbGl6ZSBFeHRyYWN0aW9uIgogICAgICAgIEIgJiBFMSAmIEUyIC0tPiBDM1tHZW1pbmkgTW9kZWwgRmluYWwgUHJvbXB0IC0gMjAwMC01MDAwIHRva2Vuc10KICAgICAgICBDMyAtLT4gRDN7Q1NWIFZhbGlkYXRpb259CiAgICAgICAgRDMgLS0+fFZhbGlkfCBFM1tGaW5hbCBPdXRwdXRdCiAgICAgICAgRDMgLS0+fEludmFsaWR8IEZYM1tHZW1pbmkgQ1NWIEZpeGVyIE1vZGVsXQogICAgICAgIEZYMyAtLT4gRDMKICAgIGVuZAoKICAgIEUzIC0tPiBGW0ZpbmFsIFJlc3VsdHNdCgogICAgJSUgU3R5bGluZwogICAgc3R5bGUgQzEgZmlsbDojYjNkOWZmLHN0cm9rZTojMzMzLHN0cm9rZS13aWR0aDoxcHgKICAgIHN0eWxlIEMyIGZpbGw6I2IzZDlmZixzdHJva2U6IzMzMyxzdHJva2Utd2lkdGg6MXB4CiAgICBzdHlsZSBDMyBmaWxsOiNiM2Q5ZmYsc3Ryb2tlOiMzMzMsc3Ryb2tlLXdpZHRoOjFweAogICAgc3R5bGUgRDEgZmlsbDojZjlmLHN0cm9rZTojMzMzLHN0cm9rZS13aWR0aDoxcHgKICAgIHN0eWxlIEQyIGZpbGw6I2Y5ZixzdHJva2U6IzMzMyxzdHJva2Utd2lkdGg6MXB4CiAgICBzdHlsZSBEMyBmaWxsOiNmOWYsc3Ryb2tlOiMzMzMsc3Ryb2tlLXdpZHRoOjFweAogICAgc3R5bGUgRlgxIGZpbGw6I2NjZmZjYyxzdHJva2U6IzMzMyxzdHJva2Utd2lkdGg6MXB4CiAgICBzdHlsZSBGWDIgZmlsbDojY2NmZmNjLHN0cm9rZTojMzMzLHN0cm9rZS13aWR0aDoxcHgKICAgIHN0eWxlIEZYMyBmaWxsOiNjY2ZmY2Msc3Ryb2tlOiMzMzMsc3Ryb2tlLXdpZHRoOjFweAo=\"/>"
            ],
            "text/plain": [
              "<IPython.core.display.Image object>"
            ]
          },
          "metadata": {}
        }
      ]
    },
    {
      "cell_type": "code",
      "source": [
        "iniital_prompt = \"\"\"Video Content Overview: The video appears to be a walkthrough of a clothes, showcasing the different clothing pieces. The owner moves methodically from one cloth to cloth, pointing out significant items.\n",
        "\n",
        "Challenges: Potential challenges include obscured items, items in drawers/cupboards that aren't opened, fast camera movements, and the owner's potentially inaccurate estimations of current conditions. Lighting might also be an issue in some areas, making it difficult to ascertain the condition of items.\n",
        "\n",
        "Strategy for Comprehensive Inventory: I will pause the video frequently to ensure all visible items are captured. Catalog items sequentially as they appear in the video, ensure no item is missed. I'll pay close attention to the owner's descriptions and any mentioned details like brand, condition, or purchase price. If an item is only partially visible, I will make a note of it in the overall_certainty_flag field. I will categorize items broadly (shirts, pants, shorts, etc) to aid in organization.\n",
        "\n",
        "CSV Formatting Strategy:\n",
        "\n",
        "Consistent Field Order: Adhere strictly to the specified column order to ensure compatibility.\n",
        "No Commas in Descriptions: Use spaces or other delimiters if necessary to avoid CSV conflicts.\n",
        "Complete Field Population: Ensure every column is filled, using \"NA\" where applicable.\n",
        "Proper Escaping of Special Characters: Handle any internal quotes or special characters appropriately to maintain CSV integrity.\n",
        "\n",
        "Have I logged all items in the video? No. There are more items to do in a second pass. I will set <item_logging_status> to MORETIMESTAMPSTODO.\n",
        "</video_inventory_analysis>\n",
        "\n",
        "<estimated_item_count> ESTIMATED_TOTAL_ITEM_COUNT: 75 </estimated_item_count>\n",
        "the csv format is:\n",
        "\n",
        "[INFO] CSV schema string:\n",
        "1. item_number (int): Sequential integer starting from 1. Example: 1, 2, 3 Example: 1\n",
        "2. item_type (str): Type of item in lowercase. Standard categories include: shirt, t-shirt, shorts, innerwear, jeans, pants. Example: shorts\n",
        "3. item_description (str): Detailed description including color, material, and notable features. Should be a complete phrase starting with a capital letter. Do not use commas in this field. Just describe the item verbatim. Example: Beige striped linen full sleeve shirt .\n",
        "4. occasion (str): Suitable ocassion to wear the piece of clothing. Standard categories include: gym, partywear, casual, formal. Use NA if item type is innerwear Example: gym\n",
        "5. item_brand (str): Brand name with proper capitalization. Try to identify brand based on logos and use NA if not visible/mentioned. Examples: Zara, Puma, Nike, NA.  Example: Puma\n",
        "6. item_condition (str): Condition in lowercase, using standard terms: no visible damage, slight wear, moderate wear, significant damage, as new. Example: no visible damage\n",
        "7. number_of_items (int): Integer count of identical items. If there are multiple of the same item, enter their integer count. Example: Single item: 1, Multiple items: 4 Example: 1\n",
        "8. timestamp (str): Time in HH:MM:SS format with leading zeros. Example: 00:01:30\n",
        "9. overall_certainty_flag (int): Overall confidence level 1-10 considering all fields: 1-3: Multiple uncertain fields, needs review. 4-6: Some uncertainty in key fields. 7-8: Minor uncertainty in non-critical fields. 9-10: All fields verified with high confidence. Example: 8\n",
        "10. is_similar_to (str): Reference to similar item by item_number, or NA. Use for: Matching cloth pieces, Items from same occasion. Example: NA\n",
        "\"\"\""
      ],
      "metadata": {
        "id": "NsG-ZDoqM4NN"
      },
      "execution_count": 16,
      "outputs": []
    },
    {
      "cell_type": "code",
      "source": [
        "start_time = time.time()\n",
        "model_response_1 = generate_content(prompt=[video_file_upload,\n",
        "                                                     iniital_prompt],\n",
        "                                             model=model_gemini_flash)\n",
        "\n",
        "end_time = time.time()\n",
        "model_response_1_time = end_time - start_time\n",
        "\n",
        "print(f\"[INFO] Time taken for model_reponse_1 : {round(model_response_1_time, 2)} seconds\")\n",
        "print(model_response_1.text)"
      ],
      "metadata": {
        "id": "qkuF6YN0M4Kx"
      },
      "execution_count": null,
      "outputs": []
    },
    {
      "cell_type": "code",
      "source": [
        "model_response_1.usage_metadata"
      ],
      "metadata": {
        "id": "3iWYqMa94dk6"
      },
      "execution_count": null,
      "outputs": []
    }
  ]
}